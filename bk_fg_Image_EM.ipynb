{
 "cells": [
  {
   "cell_type": "code",
   "execution_count": 79,
   "id": "ff740107",
   "metadata": {},
   "outputs": [],
   "source": [
    "%reset -f"
   ]
  },
  {
   "cell_type": "code",
   "execution_count": 80,
   "id": "cb951c4a",
   "metadata": {},
   "outputs": [],
   "source": [
    "import numpy as np\n",
    "import matplotlib.pyplot as plt \n",
    "import scipy.io\n",
    "from scipy.stats import multivariate_normal\n",
    "mat = scipy.io.loadmat('TrainingSamplesDCT_8_new.mat')"
   ]
  },
  {
   "cell_type": "code",
   "execution_count": 81,
   "id": "5f9e1672",
   "metadata": {},
   "outputs": [
    {
     "data": {
      "text/plain": [
       "(250, 64)"
      ]
     },
     "execution_count": 81,
     "metadata": {},
     "output_type": "execute_result"
    }
   ],
   "source": [
    "x=mat['TrainsampleDCT_FG']\n",
    "x.shape"
   ]
  },
  {
   "cell_type": "code",
   "execution_count": 82,
   "id": "f3f7110e",
   "metadata": {},
   "outputs": [],
   "source": [
    "\n",
    "mcc = scipy.io.loadmat('INITValues_ForeGround.mat')"
   ]
  },
  {
   "cell_type": "code",
   "execution_count": 83,
   "id": "862c92be",
   "metadata": {},
   "outputs": [],
   "source": [
    "mu_initial=mcc['muinit']\n",
    "var_initial=mcc['varinit']\n",
    "pi_initial=mcc['PIS'][0]\n",
    "epsilon=0.01\n",
    "Q_func_new=1\n",
    "Q_func=0\n",
    "C=4\n",
    "counter=0;\n"
   ]
  },
  {
   "cell_type": "code",
   "execution_count": 84,
   "id": "26fbc19e",
   "metadata": {},
   "outputs": [
    {
     "name": "stdout",
     "output_type": "stream",
     "text": [
      "250 64\n"
     ]
    }
   ],
   "source": [
    "\n",
    "n=len(x)\n",
    "try:\n",
    "    d=len(x[0])\n",
    "except:\n",
    "    d=1\n",
    "print(n,d)"
   ]
  },
  {
   "cell_type": "code",
   "execution_count": 85,
   "id": "b3d1aff9",
   "metadata": {},
   "outputs": [],
   "source": [
    "while(Q_func_new-Q_func>epsilon):\n",
    "    a_ij=np.zeros((n,C))\n",
    "    h_ij=np.zeros((n,C))\n",
    "    log_normal=np.zeros((n,C))\n",
    "    for i in range(C):\n",
    "        a_ij[:,i]=multivariate_normal.pdf(x,mu_initial[:,i].T,np.diag(var_initial[:,i]))\n",
    "\n",
    "\n",
    "    for i in range(C):\n",
    "        h_ij[:,i]=(a_ij[:,i]*pi_initial[i])/np.matmul(a_ij,pi_initial)\n",
    "\n",
    "    for i in range(C):\n",
    "        log_normal[:,i]=np.log(multivariate_normal.pdf(x,mu_initial[:,i].T,np.diag(var_initial[:,i]))*pi_initial[i])\n",
    "\n",
    "\n",
    "    Q_func=0\n",
    "\n",
    "    for i in range(C):\n",
    "            Q_func+=np.dot(h_ij[:,i].T,log_normal[:,i])\n",
    "\n",
    "    pi_initial=sum(h_ij)/n    \n",
    "    mu_initial=np.dot(x.T,h_ij)/sum(h_ij)\n",
    "\n",
    "    for i in range(C):\n",
    "        for j in range(d):\n",
    "            var_initial[j,i]=np.dot(h_ij[:,i],((x[:,j]- mu_initial[j,i])**2))/sum(h_ij[:,i])\n",
    "\n",
    "\n",
    "\n",
    "    for i in range(C):\n",
    "        log_normal[:,i]=np.log(multivariate_normal.pdf(x,mu_initial[:,i].T,np.diag(var_initial[:,i]))*pi_initial[i])\n",
    "\n",
    "    Q_func_new=0\n",
    "\n",
    "    for i in range(C):\n",
    "            Q_func_new+=np.dot(h_ij[:,i].T,log_normal[:,i])\n"
   ]
  },
  {
   "cell_type": "code",
   "execution_count": 86,
   "id": "ea3f98a4",
   "metadata": {},
   "outputs": [
    {
     "data": {
      "text/plain": [
       "array([0.35393517, 0.20684192, 0.30096474, 0.13825818])"
      ]
     },
     "execution_count": 86,
     "metadata": {},
     "output_type": "execute_result"
    }
   ],
   "source": [
    "pi_initial"
   ]
  },
  {
   "cell_type": "code",
   "execution_count": null,
   "id": "03b2d7d5",
   "metadata": {},
   "outputs": [],
   "source": []
  },
  {
   "cell_type": "code",
   "execution_count": 89,
   "id": "dff31025",
   "metadata": {},
   "outputs": [],
   "source": [
    "from scipy.fftpack import dct\n",
    "def dct2 (block):\n",
    "  return dct(dct(block.T, norm = 'ortho').T, norm = 'ortho')"
   ]
  },
  {
   "cell_type": "code",
   "execution_count": 91,
   "id": "2b6da95b",
   "metadata": {},
   "outputs": [
    {
     "data": {
      "text/plain": [
       "array([[1, 2],\n",
       "       [3, 4]])"
      ]
     },
     "execution_count": 91,
     "metadata": {},
     "output_type": "execute_result"
    }
   ],
   "source": [
    "a=np.array([[1,2],[3,4]])\n",
    "d"
   ]
  }
 ],
 "metadata": {
  "kernelspec": {
   "display_name": "Python 3",
   "language": "python",
   "name": "python3"
  },
  "language_info": {
   "codemirror_mode": {
    "name": "ipython",
    "version": 3
   },
   "file_extension": ".py",
   "mimetype": "text/x-python",
   "name": "python",
   "nbconvert_exporter": "python",
   "pygments_lexer": "ipython3",
   "version": "3.5.1"
  }
 },
 "nbformat": 4,
 "nbformat_minor": 5
}
