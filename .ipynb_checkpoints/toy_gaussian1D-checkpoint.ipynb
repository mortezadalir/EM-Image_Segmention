{
 "cells": [
  {
   "cell_type": "code",
   "execution_count": 240,
   "id": "9b1f601f",
   "metadata": {},
   "outputs": [],
   "source": [
    "import numpy as np\n",
    "import matplotlib.pyplot as plt\n",
    "import random\n",
    "from scipy.stats import multivariate_normal"
   ]
  },
  {
   "cell_type": "code",
   "execution_count": 241,
   "id": "34ea6454",
   "metadata": {},
   "outputs": [],
   "source": [
    "import scipy.io\n",
    "mat = scipy.io.loadmat('TrainDATAtoyGaussian1D.mat')\n",
    "\n",
    "\n",
    "x1=mat['NTrain']\n",
    "x2=mat['PTrain']"
   ]
  },
  {
   "cell_type": "code",
   "execution_count": 242,
   "id": "b6d15324",
   "metadata": {},
   "outputs": [],
   "source": [
    "#x1=2*np.random.randn(75)+2\n",
    "#x2=.75*np.random.randn(25)+8\n"
   ]
  },
  {
   "cell_type": "code",
   "execution_count": 243,
   "id": "83f1045f",
   "metadata": {},
   "outputs": [
    {
     "data": {
      "image/png": "[encoded data removed]",
      "text/plain": [
       "<Figure size 432x288 with 1 Axes>"
      ]
     },
     "metadata": {
      "needs_background": "light"
     },
     "output_type": "display_data"
    }
   ],
   "source": [
    "x=np.concatenate((x2,x1),axis=None)\n",
    "#random.shuffle(x)\n",
    "n_bins=40\n",
    "fig, axs = plt.subplots(tight_layout=True)\n",
    "hist=axs.hist(x, bins=n_bins)\n"
   ]
  },
  {
   "cell_type": "code",
   "execution_count": 244,
   "id": "31a4651f",
   "metadata": {},
   "outputs": [],
   "source": [
    "mu_initial=np.array([1,2])\n",
    "var_initial=np.array([1,2])\n",
    "pi_initial=np.array([.5,.5])\n",
    "epsilon=0.01\n",
    "Qnew=1\n",
    "Qold=0\n",
    "C=2\n",
    "counter=0;\n"
   ]
  },
  {
   "cell_type": "code",
   "execution_count": 245,
   "id": "de08e43c",
   "metadata": {},
   "outputs": [
    {
     "data": {
      "text/plain": [
       "array([0.11705512, 0.24594005, 0.30941179, 0.31371034, 0.19001322,\n",
       "       0.29424037, 0.31538012, 0.3153007 , 0.16109131, 0.23711803,\n",
       "       0.29858206, 0.28114546, 0.26821228, 0.04390245, 0.27162868,\n",
       "       0.22849342, 0.30840995, 0.30767971, 0.31126833, 0.24439635,\n",
       "       0.3111417 , 0.31524418, 0.26850446, 0.31195537, 0.11949206,\n",
       "       0.31397082, 0.0749558 , 0.24826487, 0.03423983, 0.24885717,\n",
       "       0.31348038, 0.30705473, 0.14995607, 0.31201436, 0.23876138,\n",
       "       0.30306085, 0.13806256, 0.30585407, 0.31587585, 0.27151318,\n",
       "       0.23744778, 0.14070642, 0.05194351, 0.26727973, 0.28677733,\n",
       "       0.22227198, 0.18632899, 0.19227957, 0.12204053, 0.22591885,\n",
       "       0.31364524, 0.20577336, 0.23236583, 0.21485843, 0.2905122 ,\n",
       "       0.15333788, 0.06917303, 0.29736526, 0.0665912 , 0.03231499,\n",
       "       0.30561459, 0.21226906, 0.23440855, 0.09498897, 0.31120843,\n",
       "       0.28419665, 0.26517126, 0.18939587, 0.1861231 , 0.27856875,\n",
       "       0.10476514, 0.31132006, 0.11121349, 0.23240917, 0.16664646,\n",
       "       0.04174783, 0.28079807, 0.27795226, 0.2596357 , 0.19214207,\n",
       "       0.22841774, 0.31360093, 0.3012113 , 0.31240862, 0.26042704,\n",
       "       0.195549  , 0.20850819, 0.29504528, 0.18619684, 0.23016168,\n",
       "       0.30147533, 0.11840322, 0.02145605, 0.18562099, 0.24585093,\n",
       "       0.24896656, 0.31567026, 0.31581003, 0.02848524, 0.23004408,\n",
       "       0.13416893, 0.30701166, 0.26220405, 0.21491149, 0.30240877,\n",
       "       0.12383288, 0.22204451, 0.22462048, 0.1694885 , 0.31191461,\n",
       "       0.29015697, 0.30542989, 0.22740583, 0.3158527 , 0.17628381,\n",
       "       0.30675102, 0.30002187, 0.28517995, 0.31205248, 0.29294509,\n",
       "       0.08294599, 0.15299825, 0.3008772 , 0.30597189, 0.09868641,\n",
       "       0.31425888, 0.30684205, 0.14320439, 0.17318238, 0.23751385,\n",
       "       0.06404705, 0.31119304, 0.26466978, 0.06021168, 0.30027774,\n",
       "       0.14320554, 0.31333505, 0.26753337, 0.07539648, 0.30079282,\n",
       "       0.30240768, 0.23802937, 0.30693122, 0.11650742, 0.13353917,\n",
       "       0.14680723, 0.30197655, 0.25277471, 0.14671274, 0.3048446 ,\n",
       "       0.30478487, 0.30396095, 0.31394802, 0.31563159, 0.23096279,\n",
       "       0.14503205, 0.17989596, 0.29523376, 0.14746372, 0.24833043,\n",
       "       0.2390079 , 0.17090525, 0.26778759, 0.17937798, 0.31582571,\n",
       "       0.09929498, 0.21168875, 0.27037409, 0.16050788, 0.14190564,\n",
       "       0.30182984, 0.23178793, 0.15032369, 0.19092726, 0.21942998,\n",
       "       0.23703868, 0.28683311, 0.11954588, 0.19722453, 0.02847739,\n",
       "       0.31511896, 0.31226238, 0.2040175 , 0.1786851 , 0.30144065,\n",
       "       0.1666329 , 0.30767785, 0.00741849, 0.03602339, 0.30663482,\n",
       "       0.24733627, 0.07556327, 0.29589287, 0.30884296, 0.24281792,\n",
       "       0.30794014, 0.11699667, 0.1081976 , 0.30958891, 0.31577525,\n",
       "       0.31512688, 0.30899206, 0.31569292, 0.28862671, 0.07054748,\n",
       "       0.24352189, 0.31588787, 0.31584857, 0.3018616 , 0.11409869,\n",
       "       0.07502446, 0.29574369, 0.31466577, 0.30706949, 0.22575866,\n",
       "       0.30049987, 0.29574786, 0.31205482, 0.08079339, 0.27303604,\n",
       "       0.31587929, 0.14865924, 0.15367153, 0.22090361, 0.0642048 ,\n",
       "       0.30951588, 0.26261939, 0.25948916, 0.25354366, 0.28376106,\n",
       "       0.2976401 , 0.25916868, 0.31016325, 0.25895149, 0.29950262,\n",
       "       0.11349953, 0.30222919, 0.29328476, 0.12218879, 0.23309288,\n",
       "       0.31215998, 0.31420243, 0.15901693, 0.27646693, 0.02718787,\n",
       "       0.04613012, 0.12178967, 0.22285078, 0.26396298, 0.13088856,\n",
       "       0.01291819, 0.08397677, 0.08863542, 0.137567  , 0.0587745 ,\n",
       "       0.05847183, 0.06862701, 0.09705537, 0.15660854, 0.00198329,\n",
       "       0.01360078, 0.07040905, 0.05900471, 0.04061734, 0.05460835,\n",
       "       0.08142   , 0.02428234, 0.11662503, 0.00806821, 0.16529333,\n",
       "       0.0686571 , 0.0257425 , 0.04937414, 0.14379029, 0.02456717,\n",
       "       0.04763482, 0.09553016, 0.03911961, 0.02868845, 0.00610472,\n",
       "       0.05808285, 0.0672481 , 0.07788893, 0.17962653, 0.03537478,\n",
       "       0.19112533, 0.06608454, 0.06633141, 0.02641563, 0.2570803 ,\n",
       "       0.02465547, 0.07865813, 0.12770688, 0.05446605, 0.04502968,\n",
       "       0.07369069, 0.14113787, 0.0185513 , 0.04635499, 0.0891171 ,\n",
       "       0.01836387, 0.04033793, 0.12583555, 0.03241112, 0.168069  ,\n",
       "       0.11111719, 0.04807961, 0.03887106, 0.05124034, 0.18016426,\n",
       "       0.02707597, 0.0175272 , 0.01930204, 0.08141837, 0.07215322,\n",
       "       0.10841788, 0.04441865, 0.04434945, 0.09292453, 0.02462091,\n",
       "       0.02624241, 0.03138436, 0.09185205, 0.13108944, 0.03152243,\n",
       "       0.01441387, 0.12749416, 0.20530061, 0.01458705, 0.05669878,\n",
       "       0.01909876, 0.0231078 , 0.12229337, 0.07408404, 0.09676974,\n",
       "       0.04701489, 0.01932235, 0.0518211 , 0.19530326, 0.01801125,\n",
       "       0.05399386, 0.07551192, 0.19559127, 0.04011082, 0.04460024,\n",
       "       0.04130984, 0.11248492, 0.09047717, 0.10185526, 0.00985492,\n",
       "       0.09587964, 0.06267527, 0.10020009, 0.02482819, 0.05461368,\n",
       "       0.05114804, 0.02415749, 0.03087797, 0.02791149, 0.19831323,\n",
       "       0.04552054, 0.02354136, 0.04091984, 0.02504003, 0.00660595,\n",
       "       0.01776685, 0.11557606, 0.0964718 , 0.05930835, 0.08543416,\n",
       "       0.05744066, 0.01814445, 0.07930685, 0.06685974, 0.06410062,\n",
       "       0.03089782, 0.02198013, 0.06053747, 0.06835295, 0.02429257,\n",
       "       0.02956364, 0.03640393, 0.00135818, 0.05280317, 0.0412175 ,\n",
       "       0.05763848, 0.03254462, 0.07896539, 0.02261494, 0.00938992,\n",
       "       0.05065308, 0.05698364, 0.08104365, 0.07624367, 0.16021396,\n",
       "       0.05635954, 0.0996479 , 0.01763362, 0.04791592, 0.05186343,\n",
       "       0.01518477, 0.16636028, 0.04161661, 0.11112145, 0.08547811,\n",
       "       0.04412222, 0.02528167, 0.09687303, 0.03440972, 0.01424105,\n",
       "       0.09801205, 0.10674932, 0.05459011, 0.03224267, 0.05404233,\n",
       "       0.09563102, 0.04948176, 0.04599436, 0.07473654, 0.11538981,\n",
       "       0.0380858 , 0.05340022, 0.07060715, 0.08479455, 0.07765143,\n",
       "       0.09876419, 0.10992622, 0.0174608 , 0.06474682, 0.16237336,\n",
       "       0.07701335, 0.02147711, 0.07967202, 0.00997209, 0.09340589,\n",
       "       0.09182285, 0.10946146, 0.0193705 , 0.08195404, 0.03867318,\n",
       "       0.15557459, 0.08154667, 0.03132517, 0.12677911, 0.05205699,\n",
       "       0.03455265, 0.00995931, 0.03183786, 0.0239892 , 0.07017459,\n",
       "       0.08188329, 0.05180153, 0.10040008, 0.02020078, 0.02817398,\n",
       "       0.02362753, 0.01754482, 0.05869944, 0.08179223, 0.03524449,\n",
       "       0.01960394, 0.02608945, 0.02401517, 0.0135226 , 0.0428111 ,\n",
       "       0.0185953 , 0.05459621, 0.02782048, 0.13602605, 0.01300037,\n",
       "       0.16629647, 0.0460466 , 0.0697776 , 0.11806778, 0.04140429,\n",
       "       0.04152745, 0.0149812 , 0.04864183, 0.03367916, 0.044676  ,\n",
       "       0.01409928, 0.02003008, 0.05366465, 0.04912522, 0.00994798,\n",
       "       0.06465392, 0.02609893, 0.09946078, 0.09235596, 0.02598158,\n",
       "       0.03163319, 0.02152569, 0.08490439, 0.02238931, 0.04730668,\n",
       "       0.05609407, 0.01103174, 0.01457239, 0.209293  , 0.0406991 ,\n",
       "       0.0977125 , 0.06750516, 0.08496387, 0.01186548, 0.01790476,\n",
       "       0.03434563, 0.03010199, 0.03735305, 0.03063557, 0.04437956,\n",
       "       0.06184546, 0.03579554, 0.06800474, 0.07217703, 0.06607984,\n",
       "       0.05783755, 0.05377272, 0.00388892, 0.12262819, 0.11205672,\n",
       "       0.04456847, 0.05622731, 0.09047648, 0.04170858, 0.0287719 ,\n",
       "       0.11769937, 0.07285937, 0.12733072, 0.05072075, 0.04761381,\n",
       "       0.03067453, 0.11304957, 0.04273541, 0.06026273, 0.01529177,\n",
       "       0.0424113 , 0.07961978, 0.06416231, 0.07956789, 0.01454148,\n",
       "       0.07822338, 0.15216631, 0.06288298, 0.01977144, 0.03121131,\n",
       "       0.04760302, 0.00987945, 0.08237242, 0.04410084, 0.09905339,\n",
       "       0.09391046, 0.06968553, 0.03165266, 0.00717468, 0.02757829,\n",
       "       0.11201114, 0.06306268, 0.08055291, 0.06718745, 0.01905187,\n",
       "       0.03999433, 0.0229724 , 0.03292077, 0.09420991, 0.0243572 ,\n",
       "       0.13198255, 0.02755662, 0.03303201, 0.02064184, 0.13726947,\n",
       "       0.06299285, 0.05336641, 0.0500598 , 0.02565119, 0.03017635,\n",
       "       0.03152834, 0.04705807, 0.01119712, 0.06874302, 0.05002857,\n",
       "       0.08176672, 0.05669262, 0.02950167, 0.12292289, 0.04659379,\n",
       "       0.09075077, 0.02784921, 0.18306198, 0.18217714, 0.01186792,\n",
       "       0.06053557, 0.18332133, 0.15874937, 0.0577852 , 0.042389  ,\n",
       "       0.04134528, 0.02133754, 0.04150343, 0.05720523, 0.02174579,\n",
       "       0.00713321, 0.05300725, 0.06470313, 0.02194491, 0.07801739,\n",
       "       0.14221014, 0.05863684, 0.04459722, 0.04829932, 0.11522388,\n",
       "       0.08288208, 0.08753523, 0.02379743, 0.05970701, 0.03160211,\n",
       "       0.03306479, 0.06248269, 0.18444912, 0.04048076, 0.03008749,\n",
       "       0.09180062, 0.05480773, 0.07458713, 0.01088005, 0.05537989,\n",
       "       0.04611097, 0.11044307, 0.09078325, 0.13244797, 0.02942118,\n",
       "       0.03281212, 0.09636154, 0.0023754 , 0.02463054, 0.03905109,\n",
       "       0.00847375, 0.22839962, 0.05796476, 0.05513256, 0.04625862,\n",
       "       0.10980733, 0.03513035, 0.20613082, 0.04978321, 0.03797102,\n",
       "       0.05581954, 0.04043445, 0.09246025, 0.03451885, 0.07118726,\n",
       "       0.15649252, 0.06802069, 0.08416148, 0.10889281, 0.03588001,\n",
       "       0.05244695, 0.06537011, 0.08018941, 0.01118973, 0.01919187,\n",
       "       0.0623257 , 0.0506023 , 0.01342805, 0.00978983, 0.02059685,\n",
       "       0.06877959, 0.08210289, 0.02880896, 0.09854899, 0.11199747,\n",
       "       0.07022315, 0.02377854, 0.04778516, 0.04460888, 0.02014685,\n",
       "       0.04498324, 0.11664211, 0.02649126, 0.03677625, 0.0578488 ,\n",
       "       0.07312182, 0.08001893, 0.05510433, 0.09467077, 0.07828143,\n",
       "       0.14249381, 0.07862543, 0.0883265 , 0.03367846, 0.01429402,\n",
       "       0.02200936, 0.02176575, 0.03085093, 0.03460723, 0.0288512 ,\n",
       "       0.09045819, 0.02671258, 0.12086251, 0.03247672, 0.09661452,\n",
       "       0.10533719, 0.07519925, 0.1284231 , 0.05344593, 0.0204325 ,\n",
       "       0.06511808, 0.03616903, 0.04768058, 0.01844935, 0.06093418,\n",
       "       0.04289437, 0.00423577, 0.01971724, 0.10297265, 0.020247  ,\n",
       "       0.10235818, 0.05369537, 0.04302139, 0.02580544, 0.07232285,\n",
       "       0.03487182, 0.01006   , 0.17771274, 0.11239552, 0.01876945,\n",
       "       0.06723572, 0.05570055, 0.02451797, 0.00581474, 0.12836301,\n",
       "       0.10138966, 0.05737816, 0.05408324, 0.04980513, 0.06812898,\n",
       "       0.0183024 , 0.10142582, 0.04610879, 0.02301315, 0.04006793,\n",
       "       0.0842836 , 0.04927167, 0.06836824, 0.08303394, 0.01593301,\n",
       "       0.06271906, 0.08183855, 0.09200069, 0.04924669, 0.14321846,\n",
       "       0.15541134, 0.04652044, 0.12746791, 0.07245349, 0.02818505,\n",
       "       0.02455979, 0.01296569, 0.10789712, 0.0261305 , 0.04176731,\n",
       "       0.0176965 , 0.04551214, 0.02716499, 0.01985268, 0.07305449,\n",
       "       0.07559136, 0.13038189, 0.05781025, 0.0407345 , 0.09124109,\n",
       "       0.05117925, 0.07028087, 0.07407447, 0.02808319, 0.02713648,\n",
       "       0.01967622, 0.1129537 , 0.05994303, 0.03144162, 0.12773998,\n",
       "       0.0083679 , 0.04503336, 0.08004265, 0.02206707, 0.04000299,\n",
       "       0.04971139, 0.08757543, 0.16547891, 0.10488755, 0.08560606,\n",
       "       0.03753318, 0.03260019, 0.09375309, 0.0268383 , 0.03109589,\n",
       "       0.0594726 , 0.10408981, 0.02527339, 0.05965924, 0.10815643,\n",
       "       0.0443436 , 0.03530718, 0.14052501, 0.00898795, 0.1998192 ,\n",
       "       0.15450617, 0.01822069, 0.0417712 , 0.07393205, 0.05362585,\n",
       "       0.02934794, 0.09881585, 0.0244192 , 0.03026876, 0.05599553,\n",
       "       0.04658332, 0.08465558, 0.09810692, 0.07189231, 0.02216027,\n",
       "       0.06466552, 0.07510147, 0.10590845, 0.11628677, 0.05319408,\n",
       "       0.02190695, 0.01808185, 0.03419873, 0.0679631 , 0.0708367 ,\n",
       "       0.04038976, 0.02420331, 0.02336117, 0.19703987, 0.05605125,\n",
       "       0.10509596, 0.07612214, 0.01046718, 0.09328667, 0.15855292,\n",
       "       0.04711457, 0.05942741, 0.07324997, 0.02557614, 0.03402095,\n",
       "       0.04004387, 0.0664229 , 0.04091628, 0.06710895, 0.04677509,\n",
       "       0.03370964, 0.0412729 , 0.08715337, 0.0796106 , 0.10993054,\n",
       "       0.02284539, 0.0551902 , 0.08625052, 0.03080831, 0.07820925,\n",
       "       0.03774245, 0.01336841, 0.02419595, 0.06101717, 0.05895898,\n",
       "       0.00826482, 0.06149657, 0.04260646, 0.04174305, 0.02449686,\n",
       "       0.04569103, 0.04036898, 0.04187574, 0.00314001, 0.02565816,\n",
       "       0.09934417, 0.12221224, 0.15282371, 0.00927012, 0.09578947,\n",
       "       0.02295989, 0.03499466, 0.14567642, 0.00745353, 0.03443536,\n",
       "       0.00948864, 0.04117065, 0.04701934, 0.10854278, 0.05256346,\n",
       "       0.04863182, 0.14522293, 0.05489133, 0.04763475, 0.0899492 ,\n",
       "       0.03889275, 0.12186733, 0.08160521, 0.04986235, 0.08333415,\n",
       "       0.03852644, 0.07059838, 0.0991958 , 0.02433913, 0.03302019,\n",
       "       0.03386512, 0.03060446, 0.02257721, 0.02298809, 0.05272223,\n",
       "       0.07503146, 0.05881938, 0.01796393, 0.12081338, 0.08109427,\n",
       "       0.02184104, 0.02639441, 0.07739814, 0.06313914, 0.0608211 ,\n",
       "       0.06634883, 0.22724068, 0.07385063, 0.04233058, 0.0043272 ,\n",
       "       0.14060318, 0.08503664, 0.0717296 , 0.10351362, 0.08720754,\n",
       "       0.17938096, 0.05889663, 0.07861835, 0.03495921, 0.051764  ,\n",
       "       0.0213623 , 0.01191522, 0.0492213 , 0.1236943 , 0.04463842,\n",
       "       0.01518953, 0.05815637, 0.03965272, 0.1050657 , 0.0134776 ,\n",
       "       0.03911563, 0.07358574, 0.15773387, 0.08800351, 0.1090653 ,\n",
       "       0.07724087, 0.04102842, 0.02680884, 0.04792388, 0.05071536,\n",
       "       0.04008749, 0.00329854, 0.04151125, 0.04849173, 0.01249785,\n",
       "       0.05048482, 0.08716234, 0.02433215, 0.07035449, 0.04617828,\n",
       "       0.02565376, 0.02734871, 0.15187923, 0.21965851, 0.08881671,\n",
       "       0.01150587, 0.04496704, 0.06063992, 0.06082525, 0.02195159,\n",
       "       0.04158802, 0.03679314, 0.19442752, 0.06164293, 0.05331415,\n",
       "       0.0983187 , 0.05506003, 0.08317992, 0.0258079 , 0.08144475,\n",
       "       0.01676368, 0.05588938, 0.02518987, 0.00537504, 0.0513868 ,\n",
       "       0.01369364, 0.11210506, 0.00945326, 0.12156691, 0.05685792,\n",
       "       0.06882784, 0.11737992, 0.12881825, 0.0316876 , 0.13492556])"
      ]
     },
     "execution_count": 245,
     "metadata": {},
     "output_type": "execute_result"
    }
   ],
   "source": [
    "r =x.shape\n",
    "n=r\n",
    "d=1\n",
    "n\n",
    "np.matmul(a_ij,pi_initial)"
   ]
  },
  {
   "cell_type": "code",
   "execution_count": 267,
   "id": "35e0a3d8",
   "metadata": {},
   "outputs": [
    {
     "data": {
      "text/plain": [
       "999.9999999999999"
      ]
     },
     "execution_count": 267,
     "metadata": {},
     "output_type": "execute_result"
    }
   ],
   "source": [
    "a_ij=np.zeros((1000,2))\n",
    "a_ij[:,0]=multivariate_normal.pdf(x,mu_initial[0],var_initial[0])\n",
    "a_ij[:,1]=multivariate_normal.pdf(x,mu_initial[1],var_initial[1])\n",
    "h_ij[:,0]=(a_ij[:,0]*pi_initial[0])/np.matmul(a_ij,pi_initial)\n",
    "h_ij[:,1]=(a_ij[:,1]*pi_initial[1])/np.matmul(a_ij,pi_initial)\n",
    "sum(sum(h_ij))"
   ]
  },
  {
   "cell_type": "code",
   "execution_count": 269,
   "id": "4a2de135",
   "metadata": {},
   "outputs": [
    {
     "data": {
      "text/plain": [
       "-2991.030388618656"
      ]
     },
     "execution_count": 269,
     "metadata": {},
     "output_type": "execute_result"
    }
   ],
   "source": [
    "log_normal=np.zeros((1000,2))\n",
    "log_normal[:,0]=np.log(multivariate_normal.pdf(x,mu_initial[0],var_initial[0])*pi_initial[0])\n",
    "log_normal[:,1]=np.log(multivariate_normal.pdf(x,mu_initial[1],var_initial[1])*pi_initial[1])\n",
    "Q_func=np.dot(h_ij[:,0].T,log_normal[:,0])+np.dot(h_ij[:,1].T,log_normal[:,1])\n",
    "Q_func\n"
   ]
  },
  {
   "cell_type": "code",
   "execution_count": 277,
   "id": "523f67b7",
   "metadata": {},
   "outputs": [
    {
     "data": {
      "text/plain": [
       "array([ 274.89839764, 2994.06630842])"
      ]
     },
     "execution_count": 277,
     "metadata": {},
     "output_type": "execute_result"
    }
   ],
   "source": [
    "pi_initial=sum(h_ij)/n\n",
    "np.dot(h_ij.T,x)/\n"
   ]
  },
  {
   "cell_type": "code",
   "execution_count": 247,
   "id": "86386c8e",
   "metadata": {},
   "outputs": [
    {
     "data": {
      "text/plain": [
       "array([0.39894228, 0.24197072, 0.05399097])"
      ]
     },
     "execution_count": 247,
     "metadata": {},
     "output_type": "execute_result"
    }
   ],
   "source": [
    "multivariate_normal.pdf(np.array([0,1,2]).T,0,1)"
   ]
  },
  {
   "cell_type": "code",
   "execution_count": 248,
   "id": "138d4bcd",
   "metadata": {},
   "outputs": [
    {
     "name": "stdout",
     "output_type": "stream",
     "text": [
      "10\n",
      "9\n",
      "8\n",
      "7\n",
      "6\n"
     ]
    }
   ],
   "source": [
    "j=10\n",
    "while j>5:\n",
    "    print(j)\n",
    "    j=j-1\n",
    "    "
   ]
  },
  {
   "cell_type": "code",
   "execution_count": null,
   "id": "f051b3e5",
   "metadata": {},
   "outputs": [],
   "source": []
  },
  {
   "cell_type": "code",
   "execution_count": 249,
   "id": "89370516",
   "metadata": {},
   "outputs": [
    {
     "data": {
      "text/plain": [
       "array([ 76.59233776, 130.56252023])"
      ]
     },
     "execution_count": 249,
     "metadata": {},
     "output_type": "execute_result"
    }
   ],
   "source": [
    "sum(a_ij)"
   ]
  },
  {
   "cell_type": "code",
   "execution_count": 250,
   "id": "90f5026c",
   "metadata": {},
   "outputs": [
    {
     "data": {
      "text/plain": [
       "array([0.2 , 0.04])"
      ]
     },
     "execution_count": 250,
     "metadata": {},
     "output_type": "execute_result"
    }
   ],
   "source": [
    "a=np.array([2,4])\n",
    "b=np.array([10,100])\n",
    "a/b"
   ]
  },
  {
   "cell_type": "code",
   "execution_count": 251,
   "id": "fcd33b31",
   "metadata": {},
   "outputs": [
    {
     "data": {
      "text/plain": [
       "array([0.5, 0.5])"
      ]
     },
     "execution_count": 251,
     "metadata": {},
     "output_type": "execute_result"
    }
   ],
   "source": [
    "pi_initial"
   ]
  },
  {
   "cell_type": "code",
   "execution_count": 252,
   "id": "e2b0d892",
   "metadata": {},
   "outputs": [
    {
     "data": {
      "text/plain": [
       "array([[0.1624064 , 0.07170385],\n",
       "       [0.21095413, 0.28092596],\n",
       "       [0.39894171, 0.21988188],\n",
       "       ...,\n",
       "       [0.04633275, 0.21130375],\n",
       "       [0.00101327, 0.06236193],\n",
       "       [0.05210656, 0.21774455]])"
      ]
     },
     "execution_count": 252,
     "metadata": {},
     "output_type": "execute_result"
    }
   ],
   "source": [
    "a_ij"
   ]
  }
 ],
 "metadata": {
  "kernelspec": {
   "display_name": "Python 3",
   "language": "python",
   "name": "python3"
  },
  "language_info": {
   "codemirror_mode": {
    "name": "ipython",
    "version": 3
   },
   "file_extension": ".py",
   "mimetype": "text/x-python",
   "name": "python",
   "nbconvert_exporter": "python",
   "pygments_lexer": "ipython3",
   "version": "3.5.1"
  }
 },
 "nbformat": 4,
 "nbformat_minor": 5
}
