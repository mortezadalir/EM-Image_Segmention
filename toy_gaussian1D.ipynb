{
 "cells": [
  {
   "cell_type": "code",
   "execution_count": 39,
   "id": "e7c069f0",
   "metadata": {},
   "outputs": [],
   "source": [
    "\n",
    "import numpy as np\n",
    "import matplotlib.pyplot as plt\n",
    "import random\n",
    "from scipy.stats import multivariate_normal"
   ]
  },
  {
   "cell_type": "code",
   "execution_count": 40,
   "id": "3a2fde6b",
   "metadata": {},
   "outputs": [],
   "source": [
    "x1=2*np.random.randn(1200,1)+2\n",
    "x2=.75*np.random.randn(800,1)+7\n"
   ]
  },
  {
   "cell_type": "code",
   "execution_count": 41,
   "id": "76e2aaba",
   "metadata": {},
   "outputs": [
    {
     "data": {
      "image/png": "[encoded data removed]",
      "text/plain": [
       "<Figure size 432x288 with 1 Axes>"
      ]
     },
     "metadata": {
      "needs_background": "light"
     },
     "output_type": "display_data"
    }
   ],
   "source": [
    "data=np.concatenate((x2,x1),axis=0)\n",
    "#random.shuffle(x)\n",
    "n_bins=40\n",
    "fig, axs = plt.subplots(tight_layout=True)\n",
    "hist=axs.hist(data, bins=n_bins)\n",
    "plt.show()"
   ]
  },
  {
   "cell_type": "code",
   "execution_count": 42,
   "id": "13bfba6e",
   "metadata": {},
   "outputs": [],
   "source": [
    "mu_initial=np.array([0,3])\n",
    "var_initial=np.array([.5,1])\n",
    "pi_initial=np.array([.5,.5])\n",
    "epsilon=0.01\n",
    "Q_func_new=1\n",
    "Q_func=0\n",
    "C=2\n",
    "counter=0;\n"
   ]
  },
  {
   "cell_type": "code",
   "execution_count": null,
   "id": "0abcc1b3",
   "metadata": {},
   "outputs": [],
   "source": []
  },
  {
   "cell_type": "code",
   "execution_count": 43,
   "id": "17e7b9e2",
   "metadata": {},
   "outputs": [
    {
     "name": "stdout",
     "output_type": "stream",
     "text": [
      "2000 1\n"
     ]
    }
   ],
   "source": [
    "x=data[:,0]\n",
    "n=len(x)\n",
    "try:\n",
    "    d=len(x[0])\n",
    "except:\n",
    "    d=1\n",
    "print(n,d)"
   ]
  },
  {
   "cell_type": "code",
   "execution_count": 44,
   "id": "8c843c3f",
   "metadata": {},
   "outputs": [
    {
     "name": "stdout",
     "output_type": "stream",
     "text": [
      "5686.397249472074\n",
      "18.909250150929438\n",
      "6.56612018758733\n",
      "4.305430736067137\n",
      "3.9860977870030183\n",
      "4.245135309955913\n",
      "4.732348693835775\n",
      "5.35381138579487\n",
      "6.100203070129282\n",
      "6.996894347788839\n",
      "8.08865598196644\n",
      "9.4342071160454\n",
      "11.101030851456926\n",
      "13.154306468259165\n",
      "15.623752684936335\n",
      "18.36624576670056\n",
      "20.550273473035304\n",
      "19.762336829958258\n",
      "13.981371071231479\n",
      "7.0743317481610575\n",
      "3.0704102554409474\n",
      "1.332263175013395\n",
      "0.6025263259507483\n",
      "0.28320495429034054\n",
      "0.13700209669787\n",
      "0.06765523934791418\n",
      "0.033903435421052563\n",
      "0.01716824268169148\n",
      "0.008758969926020654\n"
     ]
    }
   ],
   "source": [
    "while (Q_func_new- Q_func)>epsilon:\n",
    "    \n",
    "    a_ij=np.zeros((n,C))\n",
    "    h_ij=np.zeros((n,C))\n",
    "    log_normal=np.zeros((n,C))\n",
    "    for i in range(C):\n",
    "        a_ij[:,i]=multivariate_normal.pdf(x,mu_initial[i],var_initial[i])\n",
    "        \n",
    "    for i in range(C):\n",
    "        h_ij[:,i]=(a_ij[:,i]*pi_initial[i])/np.matmul(a_ij,pi_initial)\n",
    "        \n",
    "    for i in range(C):\n",
    "        log_normal[:,i]=np.log(multivariate_normal.pdf(x,mu_initial[i],var_initial[i])*pi_initial[i])\n",
    "        \n",
    "    \n",
    "    Q_func=0\n",
    "    \n",
    "    for i in range(C):\n",
    "        Q_func+=np.dot(h_ij[:,i].T,log_normal[:,i])\n",
    "        \n",
    "    \n",
    "    \n",
    "    \n",
    "    \n",
    "    \n",
    "   \n",
    "    \n",
    "    pi_initial=sum(h_ij)/n\n",
    "    mu_initial=np.dot(h_ij.T,x)/sum(h_ij)\n",
    "    s1=(x-mu_initial[0])**2\n",
    "    s2=(x-mu_initial[1])**2\n",
    "    var_initial=[np.dot(h_ij[:,0],s1)/sum(h_ij[:,0]),np.dot(h_ij[:,1],s2)/sum(h_ij[:,1])]\n",
    "    var_initial\n",
    "    \n",
    "    log_normal=np.zeros((2000,2))\n",
    "    for i in range(C):\n",
    "        log_normal[:,i]=np.log(multivariate_normal.pdf(x,mu_initial[i],var_initial[i])*pi_initial[i])\n",
    "        \n",
    "    \n",
    "    Q_func_new=0\n",
    "    \n",
    "    for i in range(C):\n",
    "        Q_func_new+=np.dot(h_ij[:,i].T,log_normal[:,i])\n",
    "        \n",
    "    print(Q_func_new- Q_func)\n",
    "\n",
    "    "
   ]
  },
  {
   "cell_type": "code",
   "execution_count": 45,
   "id": "40a73577",
   "metadata": {},
   "outputs": [
    {
     "name": "stdout",
     "output_type": "stream",
     "text": [
      "weights:  [0.59830819 0.40169181]\n",
      "means:  [1.9088014  6.96968316]\n",
      "variances: [3.8993736536854002, 0.5356535440080877]\n"
     ]
    }
   ],
   "source": [
    "print(\"weights: \" ,pi_initial)\n",
    "print(\"means: \",mu_initial)\n",
    "print(\"variances:\",var_initial)"
   ]
  },
  {
   "cell_type": "code",
   "execution_count": null,
   "id": "bef84a05",
   "metadata": {},
   "outputs": [],
   "source": []
  },
  {
   "cell_type": "code",
   "execution_count": null,
   "id": "d6df88e5",
   "metadata": {},
   "outputs": [],
   "source": [
    "\n"
   ]
  }
 ],
 "metadata": {
  "kernelspec": {
   "display_name": "Python 3",
   "language": "python",
   "name": "python3"
  },
  "language_info": {
   "codemirror_mode": {
    "name": "ipython",
    "version": 3
   },
   "file_extension": ".py",
   "mimetype": "text/x-python",
   "name": "python",
   "nbconvert_exporter": "python",
   "pygments_lexer": "ipython3",
   "version": "3.5.1"
  }
 },
 "nbformat": 4,
 "nbformat_minor": 5
}
