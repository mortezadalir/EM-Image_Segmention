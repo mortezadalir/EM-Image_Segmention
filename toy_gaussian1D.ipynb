{
 "cells": [
  {
   "cell_type": "code",
   "execution_count": 1,
   "id": "e60dee1e",
   "metadata": {},
   "outputs": [],
   "source": [
    "\n",
    "import numpy as np\n",
    "import matplotlib.pyplot as plt\n",
    "import random\n",
    "from scipy.stats import multivariate_normal"
   ]
  },
  {
   "cell_type": "code",
   "execution_count": 2,
   "id": "95bbcaba",
   "metadata": {},
   "outputs": [],
   "source": [
    "import scipy.io\n",
    "mat = scipy.io.loadmat('TrainDATAtoyGaussian1D.mat')\n",
    "\n",
    "\n",
    "x1=mat['NTrain']\n",
    "x2=mat['PTrain']"
   ]
  },
  {
   "cell_type": "code",
   "execution_count": 3,
   "id": "761f1fdb",
   "metadata": {},
   "outputs": [],
   "source": [
    "#x1=2*np.random.randn(75,2)+[1,1]\n",
    "#x2=.75*np.random.randn(25,2)+[5,5]\n"
   ]
  },
  {
   "cell_type": "code",
   "execution_count": 10,
   "id": "aba3c21a",
   "metadata": {},
   "outputs": [
    {
     "data": {
      "image/png": "[encoded data removed]",
      "text/plain": [
       "<Figure size 432x288 with 1 Axes>"
      ]
     },
     "metadata": {
      "needs_background": "light"
     },
     "output_type": "display_data"
    }
   ],
   "source": [
    "data=np.concatenate((x2,x1),axis=0)\n",
    "#random.shuffle(x)\n",
    "n_bins=40\n",
    "fig, axs = plt.subplots(tight_layout=True)\n",
    "hist=axs.hist(data, bins=n_bins)\n",
    "plt.show()"
   ]
  },
  {
   "cell_type": "code",
   "execution_count": 12,
   "id": "6008718f",
   "metadata": {},
   "outputs": [],
   "source": [
    "mu_initial=np.array([0,3])\n",
    "var_initial=np.array([.5,1])\n",
    "pi_initial=np.array([.5,.5])\n",
    "epsilon=0.01\n",
    "Q_func_new=1\n",
    "Q_func=0\n",
    "C=2\n",
    "counter=0;\n"
   ]
  },
  {
   "cell_type": "code",
   "execution_count": null,
   "id": "bc230b6f",
   "metadata": {},
   "outputs": [],
   "source": []
  },
  {
   "cell_type": "code",
   "execution_count": 6,
   "id": "7d2c724a",
   "metadata": {},
   "outputs": [
    {
     "name": "stdout",
     "output_type": "stream",
     "text": [
      "1000 1\n"
     ]
    }
   ],
   "source": [
    "x=data[:,0]\n",
    "n=len(x)\n",
    "try:\n",
    "    d=len(x[0])\n",
    "except:\n",
    "    d=1\n",
    "print(n,d)"
   ]
  },
  {
   "cell_type": "code",
   "execution_count": 7,
   "id": "cbbcd6cf",
   "metadata": {},
   "outputs": [
    {
     "name": "stdout",
     "output_type": "stream",
     "text": [
      "552.3692254973253\n",
      "8.596871631333215\n",
      "6.88357179321406\n",
      "4.711004377031713\n",
      "2.891790515519233\n",
      "1.7123852432218882\n",
      "1.0248904306661188\n",
      "0.6310936801812659\n",
      "0.40108342553139664\n",
      "0.26249888227380325\n",
      "0.17625207230980777\n",
      "0.12094543195985352\n",
      "0.08452953711889677\n",
      "0.059997265220317786\n",
      "0.04314291237619727\n",
      "0.031367094377174\n",
      "0.02302009176264619\n",
      "0.01702983848781514\n",
      "0.012684879578728214\n",
      "0.009504220995495416\n"
     ]
    }
   ],
   "source": [
    "while (Q_func_new- Q_func)>epsilon:\n",
    "    \n",
    "    a_ij=np.zeros((n,C))\n",
    "    h_ij=np.zeros((n,C))\n",
    "    log_normal=np.zeros((n,C))\n",
    "    for i in range(C):\n",
    "        a_ij[:,i]=multivariate_normal.pdf(x,mu_initial[i],var_initial[i])\n",
    "        \n",
    "    for i in range(C):\n",
    "        h_ij[:,i]=(a_ij[:,i]*pi_initial[i])/np.matmul(a_ij,pi_initial)\n",
    "        \n",
    "    for i in range(C):\n",
    "        log_normal[:,i]=np.log(multivariate_normal.pdf(x,mu_initial[i],var_initial[i])*pi_initial[i])\n",
    "        \n",
    "    \n",
    "    Q_func=0\n",
    "    \n",
    "    for i in range(C):\n",
    "        Q_func+=np.dot(h_ij[:,i].T,log_normal[:,i])\n",
    "        \n",
    "    \n",
    "    \n",
    "    \n",
    "    \n",
    "    \n",
    "   \n",
    "    \n",
    "    pi_initial=sum(h_ij)/n\n",
    "    mu_initial=np.dot(h_ij.T,x)/sum(h_ij)\n",
    "    s1=(x-mu_initial[0])**2\n",
    "    s2=(x-mu_initial[1])**2\n",
    "    var_initial=[np.dot(h_ij[:,0],s1)/sum(h_ij[:,0]),np.dot(h_ij[:,1],s2)/sum(h_ij[:,1])]\n",
    "    var_initial\n",
    "    \n",
    "    log_normal=np.zeros((1000,2))\n",
    "    for i in range(C):\n",
    "        log_normal[:,i]=np.log(multivariate_normal.pdf(x,mu_initial[i],var_initial[i])*pi_initial[i])\n",
    "        \n",
    "    \n",
    "    Q_func_new=0\n",
    "    \n",
    "    for i in range(C):\n",
    "        Q_func_new+=np.dot(h_ij[:,i].T,log_normal[:,i])\n",
    "        \n",
    "    print(Q_func_new- Q_func)\n",
    "\n",
    "    "
   ]
  },
  {
   "cell_type": "code",
   "execution_count": 8,
   "id": "0eff54fd",
   "metadata": {},
   "outputs": [
    {
     "name": "stdout",
     "output_type": "stream",
     "text": [
      "weights:  [0.25299737 0.74700263]\n",
      "means:  [1.02742034 4.0281385 ]\n",
      "variances: [1.283622138516594, 0.4755340756264432]\n"
     ]
    }
   ],
   "source": [
    "print(\"weights: \" ,pi_initial)\n",
    "print(\"means: \",mu_initial)\n",
    "print(\"variances:\",var_initial)"
   ]
  },
  {
   "cell_type": "code",
   "execution_count": 9,
   "id": "66ad46cd",
   "metadata": {},
   "outputs": [
    {
     "data": {
      "text/plain": [
       "(1000,)"
      ]
     },
     "execution_count": 9,
     "metadata": {},
     "output_type": "execute_result"
    }
   ],
   "source": [
    "x.shape"
   ]
  },
  {
   "cell_type": "code",
   "execution_count": null,
   "id": "1c3f8556",
   "metadata": {},
   "outputs": [],
   "source": [
    "\n"
   ]
  }
 ],
 "metadata": {
  "kernelspec": {
   "display_name": "Python 3",
   "language": "python",
   "name": "python3"
  },
  "language_info": {
   "codemirror_mode": {
    "name": "ipython",
    "version": 3
   },
   "file_extension": ".py",
   "mimetype": "text/x-python",
   "name": "python",
   "nbconvert_exporter": "python",
   "pygments_lexer": "ipython3",
   "version": "3.5.1"
  }
 },
 "nbformat": 4,
 "nbformat_minor": 5
}
