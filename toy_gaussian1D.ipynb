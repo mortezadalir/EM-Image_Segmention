{
 "cells": [
  {
   "cell_type": "code",
   "execution_count": 1,
   "id": "5fc81cf6",
   "metadata": {},
   "outputs": [],
   "source": [
    "%reset -f\n"
   ]
  },
  {
   "cell_type": "code",
   "execution_count": 2,
   "id": "1b69ef41",
   "metadata": {},
   "outputs": [],
   "source": [
    "import numpy as np\n",
    "import matplotlib.pyplot as plt\n",
    "import random\n",
    "from scipy.stats import multivariate_normal"
   ]
  },
  {
   "cell_type": "code",
   "execution_count": 3,
   "id": "61b96106",
   "metadata": {},
   "outputs": [],
   "source": [
    "import scipy.io\n",
    "mat = scipy.io.loadmat('TrainDATAtoyGaussian1D.mat')\n",
    "\n",
    "\n",
    "x1=mat['NTrain']\n",
    "x2=mat['PTrain']"
   ]
  },
  {
   "cell_type": "code",
   "execution_count": 4,
   "id": "e98f7198",
   "metadata": {},
   "outputs": [],
   "source": [
    "#x1=2*np.random.randn(75)+2\n",
    "#x2=.75*np.random.randn(25)+8\n"
   ]
  },
  {
   "cell_type": "code",
   "execution_count": 5,
   "id": "b1949296",
   "metadata": {},
   "outputs": [
    {
     "name": "stderr",
     "output_type": "stream",
     "text": [
      "c:\\users\\daliriyan\\appdata\\local\\programs\\python\\python35\\lib\\site-packages\\matplotlib\\figure.py:2369: UserWarning: This figure includes Axes that are not compatible with tight_layout, so results might be incorrect.\n",
      "  warnings.warn(\"This figure includes Axes that are not compatible \"\n"
     ]
    },
    {
     "data": {
      "image/png": "[encoded data removed]",
      "text/plain": [
       "<Figure size 432x288 with 1 Axes>"
      ]
     },
     "metadata": {
      "needs_background": "light"
     },
     "output_type": "display_data"
    }
   ],
   "source": [
    "x=np.concatenate((x2,x1),axis=None)\n",
    "#random.shuffle(x)\n",
    "n_bins=40\n",
    "fig, axs = plt.subplots(tight_layout=True)\n",
    "hist=axs.hist(x, bins=n_bins)\n"
   ]
  },
  {
   "cell_type": "code",
   "execution_count": 6,
   "id": "f3927fdd",
   "metadata": {},
   "outputs": [],
   "source": [
    "mu_initial=np.array([0,3])\n",
    "var_initial=np.array([.5,1])\n",
    "pi_initial=np.array([.5,.5])\n",
    "epsilon=0.01\n",
    "Q_func_new=1\n",
    "Q_func=0\n",
    "C=2\n",
    "counter=0;\n"
   ]
  },
  {
   "cell_type": "code",
   "execution_count": 7,
   "id": "c49022f8",
   "metadata": {},
   "outputs": [
    {
     "data": {
      "text/plain": [
       "(1000,)"
      ]
     },
     "execution_count": 7,
     "metadata": {},
     "output_type": "execute_result"
    }
   ],
   "source": [
    "r =x.shape\n",
    "n=r\n",
    "d=1\n",
    "n\n"
   ]
  },
  {
   "cell_type": "code",
   "execution_count": 8,
   "id": "0047b681",
   "metadata": {},
   "outputs": [
    {
     "name": "stdout",
     "output_type": "stream",
     "text": [
      "552.3692254973253\n",
      "8.596871631333215\n",
      "6.88357179321406\n",
      "4.711004377031713\n",
      "2.891790515519233\n",
      "1.7123852432218882\n",
      "1.0248904306661188\n",
      "0.6310936801812659\n",
      "0.40108342553139664\n",
      "0.26249888227380325\n",
      "0.17625207230980777\n",
      "0.12094543195985352\n",
      "0.08452953711889677\n",
      "0.059997265220317786\n",
      "0.04314291237619727\n",
      "0.031367094377174\n",
      "0.02302009176264619\n",
      "0.01702983848781514\n",
      "0.012684879578728214\n",
      "0.009504220995495416\n"
     ]
    }
   ],
   "source": [
    "while (Q_func_new- Q_func)>epsilon:\n",
    "    a_ij=np.zeros((1000,2))\n",
    "    h_ij=np.zeros((1000,2))\n",
    "    a_ij[:,0]=multivariate_normal.pdf(x,mu_initial[0],var_initial[0])\n",
    "    a_ij[:,1]=multivariate_normal.pdf(x,mu_initial[1],var_initial[1])\n",
    "    h_ij[:,0]=(a_ij[:,0]*pi_initial[0])/np.matmul(a_ij,pi_initial)\n",
    "    h_ij[:,1]=(a_ij[:,1]*pi_initial[1])/np.matmul(a_ij,pi_initial)\n",
    "    \n",
    "    log_normal=np.zeros((1000,2))\n",
    "    log_normal[:,0]=np.log(multivariate_normal.pdf(x,mu_initial[0],var_initial[0])*pi_initial[0])\n",
    "    log_normal[:,1]=np.log(multivariate_normal.pdf(x,mu_initial[1],var_initial[1])*pi_initial[1])\n",
    "    Q_func=np.dot(h_ij[:,0].T,log_normal[:,0])+np.dot(h_ij[:,1].T,log_normal[:,1])\n",
    "   \n",
    "    \n",
    "    pi_initial=sum(h_ij)/n\n",
    "    mu_initial=np.dot(h_ij.T,x)/sum(h_ij)\n",
    "    s1=(x-mu_initial[0])**2\n",
    "    s2=(x-mu_initial[1])**2\n",
    "    var_initial=[np.dot(h_ij[:,0],s1)/sum(h_ij[:,0]),np.dot(h_ij[:,1],s2)/sum(h_ij[:,1])]\n",
    "    var_initial\n",
    "    \n",
    "    log_normal=np.zeros((1000,2))\n",
    "    log_normal[:,0]=np.log(multivariate_normal.pdf(x,mu_initial[0],var_initial[0])*pi_initial[0])\n",
    "    log_normal[:,1]=np.log(multivariate_normal.pdf(x,mu_initial[1],var_initial[1])*pi_initial[1])\n",
    "    Q_func_new=np.dot(h_ij[:,0].T,log_normal[:,0])+np.dot(h_ij[:,1].T,log_normal[:,1])\n",
    "    print(Q_func_new- Q_func)\n",
    "\n",
    "    "
   ]
  },
  {
   "cell_type": "code",
   "execution_count": 9,
   "id": "8f5e005a",
   "metadata": {},
   "outputs": [
    {
     "data": {
      "text/plain": [
       "array([0.25299737, 0.74700263])"
      ]
     },
     "execution_count": 9,
     "metadata": {},
     "output_type": "execute_result"
    }
   ],
   "source": [
    "pi_initial"
   ]
  },
  {
   "cell_type": "code",
   "execution_count": 10,
   "id": "b34a1557",
   "metadata": {},
   "outputs": [
    {
     "data": {
      "text/plain": [
       "999.9999999999982"
      ]
     },
     "execution_count": 10,
     "metadata": {},
     "output_type": "execute_result"
    }
   ],
   "source": [
    "a_ij=np.zeros((1000,2))\n",
    "a_ij[:,0]=multivariate_normal.pdf(x,mu_initial[0],var_initial[0])\n",
    "a_ij[:,1]=multivariate_normal.pdf(x,mu_initial[1],var_initial[1])\n",
    "h_ij[:,0]=(a_ij[:,0]*pi_initial[0])/np.matmul(a_ij,pi_initial)\n",
    "h_ij[:,1]=(a_ij[:,1]*pi_initial[1])/np.matmul(a_ij,pi_initial)\n",
    "sum(sum(h_ij))\n",
    "\n"
   ]
  },
  {
   "cell_type": "code",
   "execution_count": 11,
   "id": "d4ccd940",
   "metadata": {},
   "outputs": [
    {
     "data": {
      "text/plain": [
       "-1739.519278223591"
      ]
     },
     "execution_count": 11,
     "metadata": {},
     "output_type": "execute_result"
    }
   ],
   "source": [
    "log_normal=np.zeros((1000,2))\n",
    "log_normal[:,0]=np.log(multivariate_normal.pdf(x,mu_initial[0],var_initial[0])*pi_initial[0])\n",
    "log_normal[:,1]=np.log(multivariate_normal.pdf(x,mu_initial[1],var_initial[1])*pi_initial[1])\n",
    "Q_func=np.dot(h_ij[:,0].T,log_normal[:,0])+np.dot(h_ij[:,1].T,log_normal[:,1])\n",
    "Q_func\n"
   ]
  },
  {
   "cell_type": "code",
   "execution_count": 12,
   "id": "17733379",
   "metadata": {},
   "outputs": [
    {
     "data": {
      "text/plain": [
       "[1.283622138516594, 0.4755340756264432]"
      ]
     },
     "execution_count": 12,
     "metadata": {},
     "output_type": "execute_result"
    }
   ],
   "source": [
    "pi_initial=sum(h_ij)/n\n",
    "mu_initial=np.dot(h_ij.T,x)/sum(h_ij)\n",
    "\n",
    "var_initial"
   ]
  },
  {
   "cell_type": "code",
   "execution_count": 13,
   "id": "725df3b7",
   "metadata": {},
   "outputs": [
    {
     "data": {
      "text/plain": [
       "[10.270989634366064, 0.4745794649970696]"
      ]
     },
     "execution_count": 13,
     "metadata": {},
     "output_type": "execute_result"
    }
   ],
   "source": [
    "#\n",
    "#x_mu0=np.dot(h_ij[0].T,(x-mu_initial[0])**2)\n",
    "s1=(x-mu_initial[0])**2\n",
    "s1=(x-mu_initial[1])**2\n",
    "var_initial=[np.dot(h_ij[:,0],s1)/sum(h_ij[:,0]),np.dot(h_ij[:,1],s2)/sum(h_ij[:,1])]\n",
    "var_initial"
   ]
  },
  {
   "cell_type": "code",
   "execution_count": 14,
   "id": "f966ff48",
   "metadata": {},
   "outputs": [
    {
     "data": {
      "text/plain": [
       "-1891.6504524936713"
      ]
     },
     "execution_count": 14,
     "metadata": {},
     "output_type": "execute_result"
    }
   ],
   "source": [
    "log_normal=np.zeros((1000,2))\n",
    "log_normal[:,0]=np.log(multivariate_normal.pdf(x,mu_initial[0],var_initial[0])*pi_initial[0])\n",
    "log_normal[:,1]=np.log(multivariate_normal.pdf(x,mu_initial[1],var_initial[1])*pi_initial[1])\n",
    "Q_func_new=np.dot(h_ij[:,0].T,log_normal[:,0])+np.dot(h_ij[:,1].T,log_normal[:,1])\n",
    "Q_func_new\n"
   ]
  },
  {
   "cell_type": "code",
   "execution_count": 15,
   "id": "37759f37",
   "metadata": {},
   "outputs": [
    {
     "data": {
      "text/plain": [
       "-152.13117427008024"
      ]
     },
     "execution_count": 15,
     "metadata": {},
     "output_type": "execute_result"
    }
   ],
   "source": [
    "Q_func_new-Q_func"
   ]
  },
  {
   "cell_type": "code",
   "execution_count": 16,
   "id": "f5e8a142",
   "metadata": {},
   "outputs": [
    {
     "name": "stdout",
     "output_type": "stream",
     "text": [
      "10\n",
      "9\n",
      "8\n",
      "7\n",
      "6\n"
     ]
    }
   ],
   "source": [
    "j=10\n",
    "while j>5:\n",
    "    print(j)\n",
    "    j=j-1\n",
    "    "
   ]
  },
  {
   "cell_type": "code",
   "execution_count": null,
   "id": "ebb679c8",
   "metadata": {},
   "outputs": [],
   "source": []
  },
  {
   "cell_type": "code",
   "execution_count": 17,
   "id": "1c1249be",
   "metadata": {},
   "outputs": [
    {
     "data": {
      "text/plain": [
       "array([ 79.53671589, 312.17746503])"
      ]
     },
     "execution_count": 17,
     "metadata": {},
     "output_type": "execute_result"
    }
   ],
   "source": [
    "sum(a_ij)"
   ]
  },
  {
   "cell_type": "code",
   "execution_count": 18,
   "id": "33be2c40",
   "metadata": {},
   "outputs": [
    {
     "data": {
      "text/plain": [
       "array([0.2 , 0.04])"
      ]
     },
     "execution_count": 18,
     "metadata": {},
     "output_type": "execute_result"
    }
   ],
   "source": [
    "a=np.array([2,4])\n",
    "b=np.array([10,100])\n",
    "a/b"
   ]
  },
  {
   "cell_type": "code",
   "execution_count": 19,
   "id": "a8e69ad7",
   "metadata": {},
   "outputs": [
    {
     "data": {
      "text/plain": [
       "array([0.25365325, 0.74634675])"
      ]
     },
     "execution_count": 19,
     "metadata": {},
     "output_type": "execute_result"
    }
   ],
   "source": [
    "pi_initial"
   ]
  },
  {
   "cell_type": "code",
   "execution_count": null,
   "id": "cc7873bf",
   "metadata": {},
   "outputs": [],
   "source": []
  }
 ],
 "metadata": {
  "kernelspec": {
   "display_name": "Python 3",
   "language": "python",
   "name": "python3"
  },
  "language_info": {
   "codemirror_mode": {
    "name": "ipython",
    "version": 3
   },
   "file_extension": ".py",
   "mimetype": "text/x-python",
   "name": "python",
   "nbconvert_exporter": "python",
   "pygments_lexer": "ipython3",
   "version": "3.5.1"
  }
 },
 "nbformat": 4,
 "nbformat_minor": 5
}
