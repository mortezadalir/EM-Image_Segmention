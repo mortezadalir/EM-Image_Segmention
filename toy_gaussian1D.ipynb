{
 "cells": [
  {
   "cell_type": "code",
   "execution_count": 9,
   "id": "fe3866ba",
   "metadata": {},
   "outputs": [],
   "source": [
    "\n",
    "import numpy as np\n",
    "import matplotlib.pyplot as plt\n",
    "import random\n",
    "from scipy.stats import multivariate_normal"
   ]
  },
  {
   "cell_type": "code",
   "execution_count": 10,
   "id": "80213b46",
   "metadata": {},
   "outputs": [],
   "source": [
    "x1=2*np.random.randn(1200,1)+2\n",
    "x2=.75*np.random.randn(800,1)+7\n"
   ]
  },
  {
   "cell_type": "code",
   "execution_count": 11,
   "id": "64751493",
   "metadata": {},
   "outputs": [
    {
     "data": {
      "image/png": "[encoded data removed]",
      "text/plain": [
       "<Figure size 432x288 with 1 Axes>"
      ]
     },
     "metadata": {
      "needs_background": "light"
     },
     "output_type": "display_data"
    }
   ],
   "source": [
    "data=np.concatenate((x2,x1),axis=0)\n",
    "#random.shuffle(x)\n",
    "n_bins=40\n",
    "fig, axs = plt.subplots(tight_layout=True)\n",
    "hist=axs.hist(data, bins=n_bins)\n",
    "plt.show()"
   ]
  },
  {
   "cell_type": "code",
   "execution_count": 12,
   "id": "297415b7",
   "metadata": {},
   "outputs": [],
   "source": [
    "mu_initial=np.array([0,3])\n",
    "var_initial=np.array([.5,1])\n",
    "pi_initial=np.array([.5,.5])\n",
    "epsilon=0.01\n",
    "Q_func_new=1\n",
    "Q_func=0\n",
    "C=2\n",
    "counter=0;\n"
   ]
  },
  {
   "cell_type": "code",
   "execution_count": null,
   "id": "54c1e3ef",
   "metadata": {},
   "outputs": [],
   "source": []
  },
  {
   "cell_type": "code",
   "execution_count": 13,
   "id": "57101b12",
   "metadata": {},
   "outputs": [
    {
     "name": "stdout",
     "output_type": "stream",
     "text": [
      "2000 1\n"
     ]
    }
   ],
   "source": [
    "x=data[:,0]\n",
    "n=len(x)\n",
    "try:\n",
    "    d=len(x[0])\n",
    "except:\n",
    "    d=1\n",
    "print(n,d)"
   ]
  },
  {
   "cell_type": "code",
   "execution_count": 14,
   "id": "1b542738",
   "metadata": {},
   "outputs": [],
   "source": [
    "while (Q_func_new- Q_func)>epsilon:\n",
    "    \n",
    "    a_ij=np.zeros((n,C))\n",
    "    h_ij=np.zeros((n,C))\n",
    "    log_normal=np.zeros((n,C))\n",
    "    for i in range(C):\n",
    "        a_ij[:,i]=multivariate_normal.pdf(x,mu_initial[i],var_initial[i])\n",
    "        \n",
    "    for i in range(C):\n",
    "        h_ij[:,i]=(a_ij[:,i]*pi_initial[i])/np.matmul(a_ij,pi_initial)\n",
    "        \n",
    "    for i in range(C):\n",
    "        log_normal[:,i]=np.log(multivariate_normal.pdf(x,mu_initial[i],var_initial[i])*pi_initial[i])\n",
    "        \n",
    "    \n",
    "    Q_func=0\n",
    "    \n",
    "    for i in range(C):\n",
    "        Q_func+=np.dot(h_ij[:,i].T,log_normal[:,i])\n",
    "        \n",
    "    \n",
    "    \n",
    "    \n",
    "    \n",
    "    \n",
    "   \n",
    "    \n",
    "    pi_initial=sum(h_ij)/n\n",
    "    mu_initial=np.dot(h_ij.T,x)/sum(h_ij)\n",
    "    s1=(x-mu_initial[0])**2\n",
    "    s2=(x-mu_initial[1])**2\n",
    "    var_initial=[np.dot(h_ij[:,0],s1)/sum(h_ij[:,0]),np.dot(h_ij[:,1],s2)/sum(h_ij[:,1])]\n",
    "    var_initial\n",
    "    \n",
    "    log_normal=np.zeros((2000,2))\n",
    "    for i in range(C):\n",
    "        log_normal[:,i]=np.log(multivariate_normal.pdf(x,mu_initial[i],var_initial[i])*pi_initial[i])\n",
    "        \n",
    "    \n",
    "    Q_func_new=0\n",
    "    \n",
    "    for i in range(C):\n",
    "        Q_func_new+=np.dot(h_ij[:,i].T,log_normal[:,i])\n",
    "        \n",
    "    \n",
    "\n",
    "    "
   ]
  },
  {
   "cell_type": "code",
   "execution_count": 15,
   "id": "3eda5e57",
   "metadata": {},
   "outputs": [
    {
     "name": "stdout",
     "output_type": "stream",
     "text": [
      "weights:  [0.58531826 0.41468174]\n",
      "means:  [1.90250317 6.92221101]\n",
      "variances: [3.826449134360448, 0.6375783724296157]\n"
     ]
    }
   ],
   "source": [
    "print(\"weights: \" ,pi_initial)\n",
    "print(\"means: \",mu_initial)\n",
    "print(\"variances:\",var_initial)"
   ]
  },
  {
   "cell_type": "code",
   "execution_count": null,
   "id": "1719206d",
   "metadata": {},
   "outputs": [],
   "source": []
  },
  {
   "cell_type": "code",
   "execution_count": null,
   "id": "896a3ed8",
   "metadata": {},
   "outputs": [],
   "source": [
    "\n"
   ]
  }
 ],
 "metadata": {
  "kernelspec": {
   "display_name": "Python 3",
   "language": "python",
   "name": "python3"
  },
  "language_info": {
   "codemirror_mode": {
    "name": "ipython",
    "version": 3
   },
   "file_extension": ".py",
   "mimetype": "text/x-python",
   "name": "python",
   "nbconvert_exporter": "python",
   "pygments_lexer": "ipython3",
   "version": "3.5.1"
  }
 },
 "nbformat": 4,
 "nbformat_minor": 5
}
