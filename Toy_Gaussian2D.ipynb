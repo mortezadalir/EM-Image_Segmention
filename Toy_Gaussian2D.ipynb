{
 "cells": [
  {
   "cell_type": "code",
   "execution_count": null,
   "id": "38edd8de",
   "metadata": {},
   "outputs": [],
   "source": [
    "\n",
    "%reset -f"
   ]
  },
  {
   "cell_type": "code",
   "execution_count": null,
   "id": "98645d84",
   "metadata": {},
   "outputs": [],
   "source": [
    "import numpy as np\n",
    "import matplotlib.pyplot as plt \n",
    "import scipy.io\n",
    "from scipy.stats import multivariate_normal\n",
    "mat = scipy.io.loadmat('TrainDATAtoyGaussian2D.mat')"
   ]
  },
  {
   "cell_type": "code",
   "execution_count": null,
   "id": "7534c2ea",
   "metadata": {},
   "outputs": [],
   "source": [
    "x1=mat['NTrain']\n",
    "x2=mat['PTrain']\n",
    "data=np.concatenate((x2,x1),axis=0)\n",
    "plt.scatter(data[:,0],data[:,1])\n",
    "plt.show()"
   ]
  },
  {
   "cell_type": "code",
   "execution_count": null,
   "id": "4b962db9",
   "metadata": {},
   "outputs": [],
   "source": [
    "mu_initial=np.array([[0,3],[0,0]])\n",
    "var_initial=np.array([[.4,.8],[.6, .7]])\n",
    "pi_initial=np.array([.5,.5])\n",
    "epsilon=0.01\n",
    "Q_func_new=1\n",
    "Q_func=0\n",
    "C=2\n",
    "counter=0;\n"
   ]
  },
  {
   "cell_type": "code",
   "execution_count": null,
   "id": "d454c962",
   "metadata": {},
   "outputs": [],
   "source": [
    "mu_initial[1]"
   ]
  },
  {
   "cell_type": "code",
   "execution_count": null,
   "id": "6552c7cd",
   "metadata": {},
   "outputs": [],
   "source": []
  },
  {
   "cell_type": "code",
   "execution_count": null,
   "id": "8cf76604",
   "metadata": {},
   "outputs": [],
   "source": [
    "x=data\n",
    "n=len(x)\n",
    "try:\n",
    "    d=len(x[0])\n",
    "except:\n",
    "    d=1\n",
    "print(n,d)\n"
   ]
  },
  {
   "cell_type": "code",
   "execution_count": null,
   "id": "fee0162c",
   "metadata": {},
   "outputs": [],
   "source": [
    "while(Q_func_new-Q_func>epsilon):\n",
    "    a_ij=np.zeros((n,C))\n",
    "    h_ij=np.zeros((n,C))\n",
    "    log_normal=np.zeros((n,C))\n",
    "    for i in range(C):\n",
    "        a_ij[:,i]=multivariate_normal.pdf(x,mu_initial[:,i].T,np.diag(var_initial[:,i]))\n",
    "\n",
    "\n",
    "    for i in range(C):\n",
    "        h_ij[:,i]=(a_ij[:,i]*pi_initial[i])/np.matmul(a_ij,pi_initial)\n",
    "\n",
    "    for i in range(C):\n",
    "        log_normal[:,i]=np.log(multivariate_normal.pdf(x,mu_initial[:,i].T,np.diag(var_initial[:,i]))*pi_initial[i])\n",
    "\n",
    "\n",
    "    Q_func=0\n",
    "\n",
    "    for i in range(C):\n",
    "            Q_func+=np.dot(h_ij[:,i].T,log_normal[:,i])\n",
    "\n",
    "    pi_initial=sum(h_ij)/n    \n",
    "    mu_initial=np.dot(x.T,h_ij)/sum(h_ij)\n",
    "\n",
    "    for i in range(C):\n",
    "        for j in range(d):\n",
    "            var_initial[j,i]=np.dot(h_ij[:,i],((x[:,j]- mu_initial[j,i])**2))/sum(h_ij[:,i])\n",
    "\n",
    "\n",
    "\n",
    "    for i in range(C):\n",
    "        log_normal[:,i]=np.log(multivariate_normal.pdf(x,mu_initial[:,i].T,np.diag(var_initial[:,i]))*pi_initial[i])\n",
    "\n",
    "    Q_func_new=0\n",
    "\n",
    "    for i in range(C):\n",
    "            Q_func_new+=np.dot(h_ij[:,i].T,log_normal[:,i])\n"
   ]
  },
  {
   "cell_type": "code",
   "execution_count": null,
   "id": "64c09ec8",
   "metadata": {},
   "outputs": [],
   "source": [
    "mu_initial"
   ]
  },
  {
   "cell_type": "code",
   "execution_count": null,
   "id": "06925657",
   "metadata": {},
   "outputs": [],
   "source": [
    " var_initial\n"
   ]
  },
  {
   "cell_type": "code",
   "execution_count": null,
   "id": "7563d581",
   "metadata": {},
   "outputs": [],
   "source": [
    "pi_initial"
   ]
  }
 ],
 "metadata": {
  "kernelspec": {
   "display_name": "Python 3",
   "language": "python",
   "name": "python3"
  },
  "language_info": {
   "codemirror_mode": {
    "name": "ipython",
    "version": 3
   },
   "file_extension": ".py",
   "mimetype": "text/x-python",
   "name": "python",
   "nbconvert_exporter": "python",
   "pygments_lexer": "ipython3",
   "version": "3.5.1"
  }
 },
 "nbformat": 4,
 "nbformat_minor": 5
}
