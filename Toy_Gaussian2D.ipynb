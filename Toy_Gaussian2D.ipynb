{
 "cells": [
  {
   "cell_type": "code",
   "execution_count": 25,
   "id": "8945c7a7",
   "metadata": {},
   "outputs": [],
   "source": [
    "%reset -f"
   ]
  },
  {
   "cell_type": "code",
   "execution_count": 26,
   "id": "3d69e406",
   "metadata": {},
   "outputs": [],
   "source": [
    "import numpy as np\n",
    "import matplotlib.pyplot as plt \n",
    "import scipy.io\n",
    "from scipy.stats import multivariate_normal\n",
    "mat = scipy.io.loadmat('TrainDATAtoyGaussian2D.mat')\n"
   ]
  },
  {
   "cell_type": "code",
   "execution_count": 27,
   "id": "abdbd940",
   "metadata": {},
   "outputs": [
    {
     "data": {
      "image/png": "[encoded data removed]",
      "text/plain": [
       "<Figure size 432x288 with 1 Axes>"
      ]
     },
     "metadata": {
      "needs_background": "light"
     },
     "output_type": "display_data"
    }
   ],
   "source": [
    "x1=1.75*np.random.randn(750,2)+np.array([2,2])\n",
    "x2=1.5*np.random.randn(250,2)+np.array([7,8])\n",
    "data=np.concatenate((x2,x1),axis=0)\n",
    "plt.scatter(data[:,0],data[:,1])\n",
    "plt.show()"
   ]
  },
  {
   "cell_type": "code",
   "execution_count": null,
   "id": "345af05f",
   "metadata": {},
   "outputs": [],
   "source": []
  },
  {
   "cell_type": "code",
   "execution_count": 28,
   "id": "8bd89cf6",
   "metadata": {},
   "outputs": [],
   "source": [
    "mu_initial=np.array([[0,3],[0,0]])\n",
    "var_initial=np.array([[.4,.8],[.6, .7]])\n",
    "pi_initial=np.array([.5,.5])\n",
    "epsilon=0.01\n",
    "Q_func_new=1\n",
    "Q_func=0\n",
    "C=2\n",
    "counter=0;\n"
   ]
  },
  {
   "cell_type": "code",
   "execution_count": 29,
   "id": "1c8b5cb5",
   "metadata": {},
   "outputs": [
    {
     "data": {
      "text/plain": [
       "(2,)"
      ]
     },
     "execution_count": 29,
     "metadata": {},
     "output_type": "execute_result"
    }
   ],
   "source": [
    "pi_initial.shape"
   ]
  },
  {
   "cell_type": "code",
   "execution_count": null,
   "id": "80ce7033",
   "metadata": {},
   "outputs": [],
   "source": []
  },
  {
   "cell_type": "code",
   "execution_count": 30,
   "id": "b9cf1f92",
   "metadata": {},
   "outputs": [
    {
     "name": "stdout",
     "output_type": "stream",
     "text": [
      "1000 2\n"
     ]
    }
   ],
   "source": [
    "x=data\n",
    "n=len(x)\n",
    "try:\n",
    "    d=len(x[0])\n",
    "except:\n",
    "    d=1\n",
    "print(n,d)\n"
   ]
  },
  {
   "cell_type": "code",
   "execution_count": 31,
   "id": "5233dc64",
   "metadata": {},
   "outputs": [],
   "source": [
    "while(Q_func_new-Q_func>epsilon):\n",
    "    a_ij=np.zeros((n,C))\n",
    "    h_ij=np.zeros((n,C))\n",
    "    log_normal=np.zeros((n,C))\n",
    "    for i in range(C):\n",
    "        a_ij[:,i]=multivariate_normal.pdf(x,mu_initial[:,i].T,np.diag(var_initial[:,i]))\n",
    "\n",
    "\n",
    "    for i in range(C):\n",
    "        h_ij[:,i]=(a_ij[:,i]*pi_initial[i])/np.matmul(a_ij,pi_initial)\n",
    "\n",
    "    for i in range(C):\n",
    "        log_normal[:,i]=np.log(multivariate_normal.pdf(x,mu_initial[:,i].T,np.diag(var_initial[:,i]))*pi_initial[i])\n",
    "\n",
    "\n",
    "    Q_func=0\n",
    "\n",
    "    for i in range(C):\n",
    "            Q_func+=np.dot(h_ij[:,i].T,log_normal[:,i])\n",
    "\n",
    "    pi_initial=sum(h_ij)/n    \n",
    "    mu_initial=np.dot(x.T,h_ij)/sum(h_ij)\n",
    "\n",
    "    for i in range(C):\n",
    "        for j in range(d):\n",
    "            var_initial[j,i]=np.dot(h_ij[:,i],((x[:,j]- mu_initial[j,i])**2))/sum(h_ij[:,i])\n",
    "\n",
    "\n",
    "\n",
    "    for i in range(C):\n",
    "        log_normal[:,i]=np.log(multivariate_normal.pdf(x,mu_initial[:,i].T,np.diag(var_initial[:,i]))*pi_initial[i])\n",
    "\n",
    "    Q_func_new=0\n",
    "\n",
    "    for i in range(C):\n",
    "            Q_func_new+=np.dot(h_ij[:,i].T,log_normal[:,i])\n"
   ]
  },
  {
   "cell_type": "code",
   "execution_count": 32,
   "id": "a84b579f",
   "metadata": {},
   "outputs": [
    {
     "data": {
      "text/plain": [
       "array([[2.01649443, 6.96955084],\n",
       "       [1.95427528, 7.85052825]])"
      ]
     },
     "execution_count": 32,
     "metadata": {},
     "output_type": "execute_result"
    }
   ],
   "source": [
    "mu_initial"
   ]
  },
  {
   "cell_type": "code",
   "execution_count": 33,
   "id": "4781032a",
   "metadata": {},
   "outputs": [
    {
     "data": {
      "text/plain": [
       "array([[3.21140175, 2.58922282],\n",
       "       [3.0612671 , 1.8673946 ]])"
      ]
     },
     "execution_count": 33,
     "metadata": {},
     "output_type": "execute_result"
    }
   ],
   "source": [
    " var_initial\n"
   ]
  },
  {
   "cell_type": "code",
   "execution_count": 34,
   "id": "0904e81a",
   "metadata": {},
   "outputs": [
    {
     "data": {
      "text/plain": [
       "array([0.74767133, 0.25232867])"
      ]
     },
     "execution_count": 34,
     "metadata": {},
     "output_type": "execute_result"
    }
   ],
   "source": [
    "pi_initial"
   ]
  }
 ],
 "metadata": {
  "kernelspec": {
   "display_name": "Python 3",
   "language": "python",
   "name": "python3"
  },
  "language_info": {
   "codemirror_mode": {
    "name": "ipython",
    "version": 3
   },
   "file_extension": ".py",
   "mimetype": "text/x-python",
   "name": "python",
   "nbconvert_exporter": "python",
   "pygments_lexer": "ipython3",
   "version": "3.5.1"
  }
 },
 "nbformat": 4,
 "nbformat_minor": 5
}
